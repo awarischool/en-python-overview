{
 "cells": [
  {
   "cell_type": "markdown",
   "metadata": {},
   "source": [
    "# Python"
   ]
  },
  {
   "cell_type": "markdown",
   "metadata": {},
   "source": [
    "## 1. Overview"
   ]
  },
  {
   "cell_type": "markdown",
   "metadata": {},
   "source": [
    "### Why use Python for Data Science?\n",
    "- https://areknawo.com/nice-syntax-popular-languages-syntaxes/"
   ]
  },
  {
   "cell_type": "markdown",
   "metadata": {},
   "source": [
    "## 2. Data structure in Python\n",
    "![](https://raw.githubusercontent.com/awarischool/en-python-overview/master/imgs/python-syntax.png)\n",
    "![](https://raw.githubusercontent.com/awarischool/en-python-overview/master/imgs/syntax-example.png)"
   ]
  },
  {
   "cell_type": "markdown",
   "metadata": {},
   "source": [
    "## 3. Learning / Reviewing Python syntax\n",
    "The best way to learn the use of the Python programming syntax is combining practical exercises and small video lectures where new concepts are presented. It is like learning a musical instrument! It requires practice. However, pure Python syntax has no practical application, as we will see below, the applications in Python arise when we start to import libraries, which are tools for specific applications. Anyway, it is important to be comfortable with Python syntax because however we use them to define algorithms in which those tools will be used. Here's some recommendations for learning and reviewing Python Syntax\n",
    "### 3.1 TODO: DataCamp\n",
    "\n",
    "### 3.2 TODO: Review Unit 4 - Python\n",
    "- https://app.awarischool.com/data-science-us/unit-04/introduction-2\n",
    "\n",
    "### 3.3 TODO: Python Challenges\n",
    "- https://app.awarischool.com/data-science-us/unit-04/python-challenges\n",
    "\n",
    "The difficulty level of the challenges is not necessarily in order. Most of them have multiple solutions, some with a few lines. The important thing here is to practice. The student can freely search on google, discuss with colleagues, with the mentor and even share different solutions to your colleagues. In addition, there is no deadline for the delivery of all challenges.\n"
   ]
  },
  {
   "cell_type": "markdown",
   "metadata": {},
   "source": [
    "## 4. Classes and Functions\n",
    "Since we are following the inverted methodology here, we will advance some of the most important topics in order that you can connect some dots related to activities that we will see over the course. First of all native functions in Python.\n",
    "\n",
    "### 4.1 Python Native Functions\n",
    "All functions in Python are characterized by the use of parentheses. Its syntax is as follows:\n",
    "````\n",
    "optional_output = name_of_function(optional_input)\n",
    "```\n",
    "\n",
    "Functions can either be created by the user, imported to the environment or there are some functions that are already imported natively. We can see a list of the same following:\n",
    "![](https://i.stack.imgur.com/O0eOZ.png)\n"
   ]
  },
  {
   "cell_type": "markdown",
   "metadata": {},
   "source": [
    "You do not have to \"remember\" all those native functions. However, here are some that deserve attention. Here are some examples:"
   ]
  },
  {
   "cell_type": "code",
   "execution_count": null,
   "metadata": {},
   "outputs": [],
   "source": [
    "a = 5.2"
   ]
  },
  {
   "cell_type": "code",
   "execution_count": null,
   "metadata": {},
   "outputs": [],
   "source": [
    "type(a)"
   ]
  },
  {
   "cell_type": "code",
   "execution_count": null,
   "metadata": {},
   "outputs": [],
   "source": [
    "str(a)"
   ]
  },
  {
   "cell_type": "code",
   "execution_count": null,
   "metadata": {},
   "outputs": [],
   "source": [
    "int(a)"
   ]
  },
  {
   "cell_type": "code",
   "execution_count": null,
   "metadata": {},
   "outputs": [],
   "source": [
    "type(str(a))"
   ]
  },
  {
   "cell_type": "code",
   "execution_count": null,
   "metadata": {},
   "outputs": [],
   "source": [
    "list(range(20))"
   ]
  },
  {
   "cell_type": "markdown",
   "metadata": {},
   "source": [
    "Although `print` seem unnecessary because it does not need it in the examples above, we have two examples below in which` print` makes all the difference:"
   ]
  },
  {
   "cell_type": "code",
   "execution_count": null,
   "metadata": {},
   "outputs": [],
   "source": [
    "a = 5\n",
    "b = a*2\n",
    "c = list(range(10))"
   ]
  },
  {
   "cell_type": "code",
   "execution_count": null,
   "metadata": {},
   "outputs": [],
   "source": [
    "a = 5\n",
    "print(a)\n",
    "b = a*2\n",
    "print(b)\n",
    "c = list(range(10))\n",
    "print(c)"
   ]
  },
  {
   "cell_type": "markdown",
   "metadata": {},
   "source": [
    "### 4.2 Custom Functions\n",
    "We can also customize functions to automate sequence of steps that need to be repeated multiple times. An example for the calculation of BMI (Body Mass Index):"
   ]
  },
  {
   "cell_type": "code",
   "execution_count": null,
   "metadata": {},
   "outputs": [],
   "source": [
    "def calculate_bmi(weight, height):\n",
    "    pass # Finish me: https://en.wikipedia.org/wiki/Body_mass_index"
   ]
  },
  {
   "cell_type": "code",
   "execution_count": null,
   "metadata": {},
   "outputs": [],
   "source": [
    "calculate_bmi(60, 1.74)"
   ]
  },
  {
   "cell_type": "code",
   "execution_count": null,
   "metadata": {},
   "outputs": [],
   "source": [
    "calculate_bmi(weight=61, height=1.64)"
   ]
  },
  {
   "cell_type": "markdown",
   "metadata": {},
   "source": [
    "#### Activity\n",
    "Create a `area_circle` function that calculates the area of a circle:"
   ]
  },
  {
   "cell_type": "code",
   "execution_count": null,
   "metadata": {},
   "outputs": [],
   "source": [
    "PI = 3.1415 \n",
    "\n",
    "# Finish the code\n",
    "def area_circle(raio):\n",
    "    #TODO: Solve\n",
    "    return 0 "
   ]
  },
  {
   "cell_type": "code",
   "execution_count": null,
   "metadata": {},
   "outputs": [],
   "source": [
    "area_circle(5)"
   ]
  },
  {
   "cell_type": "markdown",
   "metadata": {},
   "source": [
    "If it is too easy, make it also calculate the circumference of a circle:"
   ]
  },
  {
   "cell_type": "code",
   "execution_count": null,
   "metadata": {},
   "outputs": [],
   "source": [
    "PI = 3.1415\n",
    "\n",
    "# Finish the code\n",
    "def geometry_circle(radius, type_calculation):\n",
    "    return 0"
   ]
  },
  {
   "cell_type": "code",
   "execution_count": null,
   "metadata": {},
   "outputs": [],
   "source": [
    "geometry_circle(radius=4, type_calculation='circumference')"
   ]
  },
  {
   "cell_type": "code",
   "execution_count": null,
   "metadata": {},
   "outputs": [],
   "source": [
    "geometry_circle(raio=4, type_calculation='area')"
   ]
  },
  {
   "cell_type": "markdown",
   "metadata": {},
   "source": [
    "### 4.3 Custom Classes\n",
    "Unlike built-in functions, Python has no native class. They are easily recognizable because it is one of the few types of syntax that makes the use of capital letters (all classes have capitalized). We can say that class is a block that lets you load into it a number of functions and variables. An example"
   ]
  },
  {
   "cell_type": "code",
   "execution_count": null,
   "metadata": {},
   "outputs": [],
   "source": [
    "class Dog:\n",
    "    def __init__(self, color='black'):\n",
    "        self.color=color\n",
    "\n",
    "    def bark(self):\n",
    "        print('Woof Woof')"
   ]
  },
  {
   "cell_type": "code",
   "execution_count": null,
   "metadata": {},
   "outputs": [],
   "source": [
    "pluto = Dog(color='amarelo')\n",
    "snoopy = Dog(color='branco')"
   ]
  },
  {
   "cell_type": "code",
   "execution_count": null,
   "metadata": {},
   "outputs": [],
   "source": [
    "pluto.color"
   ]
  },
  {
   "cell_type": "code",
   "execution_count": null,
   "metadata": {},
   "outputs": [],
   "source": [
    "pluto.bark()"
   ]
  },
  {
   "cell_type": "code",
   "execution_count": null,
   "metadata": {},
   "outputs": [],
   "source": [
    "snoopy.bark()"
   ]
  },
  {
   "cell_type": "markdown",
   "metadata": {},
   "source": [
    "Although you rarely need to create classes, it is very common that you use imported classes from other codes even without knowing it. The [image colorizer](https://github.com/awarischool/data-science/blob/master/image-colorizer/deoldify_wrapper.py) is an example. \n",
    "## 5. Imports"
   ]
  },
  {
   "cell_type": "markdown",
   "metadata": {},
   "source": [
    "### 5.1 TODO: Inspecting Activity Codes\n",
    "Inspect these two codes we used in previous activities:\n",
    "- Bot do WhatsApp: https://github.com/WittmannF/whatsapp_api\n",
    "- Colorizador: https://github.com/awarischool/br-data-science/tree/master/image-colorizer\n",
    "What are the similarities present between them? How do we make use of the code present in them in our applications?"
   ]
  },
  {
   "cell_type": "markdown",
   "metadata": {},
   "source": [
    "### 5.2 Modules"
   ]
  },
  {
   "cell_type": "code",
   "execution_count": null,
   "metadata": {},
   "outputs": [],
   "source": [
    "# TODO: Make a module\n",
    "from module_example import Cachorro"
   ]
  },
  {
   "cell_type": "code",
   "execution_count": null,
   "metadata": {},
   "outputs": [],
   "source": [
    "scooby = Dog('brown')\n",
    "scooby.bark()"
   ]
  },
  {
   "cell_type": "code",
   "execution_count": null,
   "metadata": {},
   "outputs": [],
   "source": [
    "from module_example import calculate_bmi"
   ]
  },
  {
   "cell_type": "code",
   "execution_count": null,
   "metadata": {},
   "outputs": [],
   "source": [
    "calculate_bmi(70, 1.81)"
   ]
  },
  {
   "cell_type": "markdown",
   "metadata": {},
   "source": [
    "### 5.3 customized packages"
   ]
  },
  {
   "cell_type": "code",
   "execution_count": null,
   "metadata": {},
   "outputs": [],
   "source": [
    "from exemplo_pacote.modulo_1 import Person\n",
    "from exemplo_pacote.modulo_2 import ComplexNumber"
   ]
  },
  {
   "cell_type": "code",
   "execution_count": null,
   "metadata": {},
   "outputs": [],
   "source": [
    "bill = Person('Bill Gates', 64)"
   ]
  },
  {
   "cell_type": "code",
   "execution_count": null,
   "metadata": {},
   "outputs": [],
   "source": [
    "bill.get_info()"
   ]
  },
  {
   "cell_type": "markdown",
   "metadata": {},
   "source": [
    "### 5.4 Pre-Existing Packages\n",
    "- Full list: https://docs.python.org/3/py-modindex.html\n",
    "Some examples:"
   ]
  },
  {
   "cell_type": "code",
   "execution_count": null,
   "metadata": {},
   "outputs": [],
   "source": [
    "import math"
   ]
  },
  {
   "cell_type": "code",
   "execution_count": null,
   "metadata": {},
   "outputs": [],
   "source": [
    "math.log(10)"
   ]
  },
  {
   "cell_type": "code",
   "execution_count": null,
   "metadata": {},
   "outputs": [],
   "source": [
    "math.factorial(3)"
   ]
  },
  {
   "cell_type": "markdown",
   "metadata": {},
   "source": [
    "### 5.5 Package Installation\n",
    "To install packages, the only thing you need is to know the name of it. There is a package repository called [PyPi](https://pypi.org/search/) in which will automatically search for the package name that you want to install, download it and install it for you. For installation simply packages you open your CMD or terminal and type:\n",
    "```\n",
    "pip install nome_pacote\n",
    "```\n",
    "You can still do the installation directly here by jupyter. To send system commands, you simply put the exclamation point at the beginning. In the following example we will be installing the package called [VisualML](https://github.com/WittmannF/visual-ml). First we will check if the package is installed:\n"
   ]
  },
  {
   "cell_type": "code",
   "execution_count": null,
   "metadata": {},
   "outputs": [],
   "source": [
    "import visualml"
   ]
  },
  {
   "cell_type": "markdown",
   "metadata": {},
   "source": [
    "If the package is not installed, an error message will appear in the previous line indicating that it is not installed. So let us install it:"
   ]
  },
  {
   "cell_type": "code",
   "execution_count": null,
   "metadata": {},
   "outputs": [],
   "source": [
    "!pip install visualml"
   ]
  },
  {
   "cell_type": "markdown",
   "metadata": {},
   "source": [
    "And we will again try to import the package:"
   ]
  },
  {
   "cell_type": "code",
   "execution_count": null,
   "metadata": {},
   "outputs": [],
   "source": [
    "import visualml"
   ]
  },
  {
   "cell_type": "markdown",
   "metadata": {},
   "source": [
    "Now it works! This is a package created for inspection ML algorithms decision borders. The following is an example of the same use (Note: there is no need to understand the following lines of code, just understand that we are using the VisualML in the last line):"
   ]
  },
  {
   "cell_type": "code",
   "execution_count": null,
   "metadata": {},
   "outputs": [],
   "source": [
    "import pandas as pd\n",
    "from sklearn.datasets import make_classification\n",
    "from sklearn.ensemble import RandomForestClassifier as RF\n",
    "\n",
    "# Create a toy classification dataset\n",
    "feature_names = ['A','B','C','D']\n",
    "X, y = make_classification(n_features=4, random_state=42)\n",
    "\n",
    "# The visualization is only supported if X is a pandas df\n",
    "X = pd.DataFrame(X, columns=feature_names)\n",
    "\n",
    "# Train a classifier\n",
    "clf = RF(random_state=42).fit(X,y) \n",
    "\n",
    "# Plot decision boundary grid\n",
    "visualml.decision_boundary_grid(clf, X, y)"
   ]
  },
  {
   "cell_type": "markdown",
   "metadata": {},
   "source": [
    "## 6. Package Examples in Practice\n",
    "Many packages come already installed automatically with Anaconda. The following are some examples."
   ]
  },
  {
   "cell_type": "markdown",
   "metadata": {},
   "source": [
    "### 6.1 Facial Recognition"
   ]
  },
  {
   "cell_type": "code",
   "execution_count": null,
   "metadata": {},
   "outputs": [],
   "source": [
    "# Note: It requires opencv. Try:\n",
    "#!conda install opencv"
   ]
  },
  {
   "cell_type": "code",
   "execution_count": null,
   "metadata": {},
   "outputs": [],
   "source": [
    "import cv2"
   ]
  },
  {
   "cell_type": "code",
   "execution_count": null,
   "metadata": {},
   "outputs": [],
   "source": [
    "xml_path = 'haarcascade_frontalface_alt2.xml'\n",
    "clf = cv2.CascadeClassifier(xml_path)\n",
    "cap = cv2.VideoCapture(0)\n",
    "\n",
    "while(not cv2.waitKey(20) & 0xFF == ord('q')):\n",
    "        ret, frame = cap.read()\n",
    "\n",
    "        gray = cv2.cvtColor(frame, cv2.COLOR_BGR2GRAY)\n",
    "\n",
    "        faces = clf.detectMultiScale(gray)\n",
    "\n",
    "        for x, y, w, h in faces:\n",
    "            cv2.rectangle(frame, (x, y), (x+w, y+h), (255, 0, 0))\n",
    "\n",
    "        cv2.imshow('frame',frame)\n",
    "\n",
    "cap.release()\n",
    "\n",
    "cv2.destroyAllWindows()\n",
    "cv2.waitKey(1)"
   ]
  },
  {
   "cell_type": "markdown",
   "metadata": {},
   "source": [
    "### 6.2 Data manipulation with Pandas"
   ]
  },
  {
   "cell_type": "code",
   "execution_count": null,
   "metadata": {},
   "outputs": [],
   "source": [
    "import pandas as pd "
   ]
  },
  {
   "cell_type": "code",
   "execution_count": null,
   "metadata": {},
   "outputs": [],
   "source": [
    "df = pd.read_excel(\"excel_example.xlsx\")"
   ]
  },
  {
   "cell_type": "code",
   "execution_count": null,
   "metadata": {},
   "outputs": [],
   "source": [
    "type(df)"
   ]
  },
  {
   "cell_type": "code",
   "execution_count": null,
   "metadata": {},
   "outputs": [],
   "source": [
    "df.head()"
   ]
  },
  {
   "cell_type": "code",
   "execution_count": null,
   "metadata": {},
   "outputs": [],
   "source": [
    "df.describe()"
   ]
  },
  {
   "cell_type": "code",
   "execution_count": null,
   "metadata": {},
   "outputs": [],
   "source": [
    "# Get column\n",
    "df.Name"
   ]
  },
  {
   "cell_type": "markdown",
   "metadata": {},
   "source": [
    "### 6.3 Machine Learning"
   ]
  },
  {
   "cell_type": "code",
   "execution_count": null,
   "metadata": {},
   "outputs": [],
   "source": [
    "from sklearn.datasets import load_breast_cancer\n",
    "from sklearn.ensemble import RandomForestClassifier as RF"
   ]
  },
  {
   "cell_type": "code",
   "execution_count": null,
   "metadata": {},
   "outputs": [],
   "source": [
    "data = load_breast_cancer()\n",
    "X = data.data\n",
    "y = data.target\n",
    "\n",
    "clf = RF(random_state=42)\n",
    "clf.fit(X[:len(y)//2],y[:len(y)//2]) \n",
    "\n",
    "score = clf.score(X[len(y)//2:], y[len(y)//2:])\n",
    "print(f'Test score is {score*100:.2f}%')"
   ]
  },
  {
   "cell_type": "markdown",
   "metadata": {},
   "source": [
    "### 6.4 Data Visualization"
   ]
  },
  {
   "cell_type": "code",
   "execution_count": null,
   "metadata": {},
   "outputs": [],
   "source": [
    "import seaborn as sns"
   ]
  },
  {
   "cell_type": "code",
   "execution_count": null,
   "metadata": {},
   "outputs": [],
   "source": [
    "df = pd.DataFrame(X, columns = data.feature_names)\n",
    "df['target'] = y\n",
    "columns = ['mean radius', 'mean texture', 'mean perimeter', 'mean area', 'target']\n",
    "sns.pairplot(df[columns], hue='target' )"
   ]
  },
  {
   "cell_type": "code",
   "execution_count": null,
   "metadata": {},
   "outputs": [],
   "source": [
    "vml.decision_boundary_grid(clf, df.drop('target', axis=1), y, feat_list=columns[:-1], figsize=(12,12))"
   ]
  },
  {
   "cell_type": "markdown",
   "metadata": {},
   "source": [
    "### 6.5 Web Scraping"
   ]
  },
  {
   "cell_type": "code",
   "execution_count": null,
   "metadata": {},
   "outputs": [],
   "source": [
    "import requests"
   ]
  },
  {
   "cell_type": "code",
   "execution_count": null,
   "metadata": {},
   "outputs": [],
   "source": [
    "url = \"https://en.wikipedia.org/wiki/Cat\"\n",
    "c = requests.get(url).content\n",
    "print(f'Colecting data from  {url}')\n",
    "print(c[-100:].decode())"
   ]
  },
  {
   "cell_type": "code",
   "execution_count": null,
   "metadata": {},
   "outputs": [],
   "source": [
    "from bs4 import BeautifulSoup\n",
    "soup = BeautifulSoup(c)\n",
    "precos = soup.find_all('div')\n",
    "precos[-5:]"
   ]
  },
  {
   "cell_type": "code",
   "execution_count": null,
   "metadata": {},
   "outputs": [],
   "source": []
  },
  {
   "cell_type": "code",
   "execution_count": null,
   "metadata": {},
   "outputs": [],
   "source": []
  }
 ],
 "metadata": {
  "kernelspec": {
   "display_name": "Python 3",
   "language": "python",
   "name": "python3"
  },
  "language_info": {
   "codemirror_mode": {
    "name": "ipython",
    "version": 3
   },
   "file_extension": ".py",
   "mimetype": "text/x-python",
   "name": "python",
   "nbconvert_exporter": "python",
   "pygments_lexer": "ipython3",
   "version": "3.7.7"
  }
 },
 "nbformat": 4,
 "nbformat_minor": 4
}
