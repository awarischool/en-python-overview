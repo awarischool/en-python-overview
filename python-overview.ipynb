{
 "cells": [
  {
   "cell_type": "markdown",
   "metadata": {},
   "source": [
    "# Python"
   ]
  },
  {
   "cell_type": "markdown",
   "metadata": {},
   "source": [
    "## 1. Overview"
   ]
  },
  {
   "cell_type": "markdown",
   "metadata": {},
   "source": [
    "### Why use Python for Data Science?\n",
    "- https://areknawo.com/nice-syntax-popular-languages-syntaxes/"
   ]
  },
  {
   "cell_type": "markdown",
   "metadata": {},
   "source": [
    "## 2. Data structure in Python\n",
    "![](https://github.com/awarischool/br-data-science/blob/master/python/aula/imgs/sintaxe_python.png?raw=true)\n",
    "![](https://github.com/awarischool/br-data-science/blob/master/python/aula/imgs/exemplo_sintaxe.png?raw=true)"
   ]
  },
  {
   "cell_type": "markdown",
   "metadata": {},
   "source": [
    "## 3. Learning / Reviewing Python syntax\n",
    "The best way to learn the use of the Python programming syntax is from a course that addresses the main uses of this syntax in conjunction with exercises for fixation. A pure Python syntax has no practical application, however it is important for us to define algorithms and instructions. As we will see below, the applications in Python arise in fact when we started to import libraries, which are as if they were tools for specific applications. Anyway, it is important to be comfortable with Python syntax. For this, we have an ongoing recommendation for fixing it. We also prepared a number of challenges for fixing what you learn.\n",
    "### 3.1 ALL: \"Cola\" Python\n",
    "- https://github.com/awarischool/br-data-science/blob/master/python/Python_Cheat_Notebook.ipynb\n",
    "\n",
    "### 3.2 TODO: Python Course\n",
    "- https://app.awari.com.br/data-science/unidade-03/\n",
    "\n",
    "### 3.3 TODO: Challenges\n",
    "- https://github.com/awarischool/br-python-challenges\n",
    "The difficulty level of the challenges is not necessarily in order. Most of them have multiple solutions, some with a few lines. To create a sense of community in the class, we will create a repository to share different possible solutions for each year. The important thing here is to practice. The student can freely make queries in the search engine, with colleagues, with the mentor and even give solutions to other colleagues. In addition, there is a deadline for the delivery of all challenges.\n"
   ]
  },
  {
   "cell_type": "markdown",
   "metadata": {},
   "source": [
    "## 4. Classes and Functions\n",
    "Despite being a content that you visit during the course of Python, usually such content is addressed only at the end, to be \"more advanced\". Since we are following the inverted methodology here, that this already have an overview of what are these concepts so that we can connect with some points related to previous activities? First, we know the native functions of Python.\n",
    "### 4.1 Python Native Functions\n",
    "All functions in Python are characterized by the use of parentheses. Its syntax is as follows:\n",
    "````\n",
    "saida_opcional = nome_da_funcao(entrada_opcional)\n",
    "```\n",
    "Functions can either be created by the user, imported to the environment or there are some functions that are already imported natively. We can see a list of the same following:\n",
    "![](https://i.stack.imgur.com/O0eOZ.png)\n"
   ]
  },
  {
   "cell_type": "markdown",
   "metadata": {},
   "source": [
    "You do not have to \"remember\" all those native functions. However, here are some that deserve attention. For example, `print` to outbound content text, type variávei with` type`, conversion variables with `float`,` set`, `int`,` or `dict` str` (according to demand ) 'len` to a variable width and `range` to create a range of integers. Here are some examples:"
   ]
  },
  {
   "cell_type": "code",
   "execution_count": null,
   "metadata": {},
   "outputs": [],
   "source": [
    "a = 5.2"
   ]
  },
  {
   "cell_type": "code",
   "execution_count": null,
   "metadata": {},
   "outputs": [],
   "source": [
    "type(a)"
   ]
  },
  {
   "cell_type": "code",
   "execution_count": null,
   "metadata": {},
   "outputs": [],
   "source": [
    "str(a)"
   ]
  },
  {
   "cell_type": "code",
   "execution_count": null,
   "metadata": {},
   "outputs": [],
   "source": [
    "int(a)"
   ]
  },
  {
   "cell_type": "code",
   "execution_count": null,
   "metadata": {},
   "outputs": [],
   "source": [
    "type(str(a))"
   ]
  },
  {
   "cell_type": "code",
   "execution_count": null,
   "metadata": {},
   "outputs": [],
   "source": [
    "list(range(20))"
   ]
  },
  {
   "cell_type": "markdown",
   "metadata": {},
   "source": [
    "Although `print` seem unnecessary because it does not need it in the examples above, we have two examples below in which` print` makes all the difference:"
   ]
  },
  {
   "cell_type": "code",
   "execution_count": null,
   "metadata": {},
   "outputs": [],
   "source": [
    "a = 5\n",
    "b = a*2\n",
    "c = list(range(10))"
   ]
  },
  {
   "cell_type": "code",
   "execution_count": null,
   "metadata": {},
   "outputs": [],
   "source": [
    "a = 5\n",
    "print(a)\n",
    "b = a*2\n",
    "print(b)\n",
    "c = list(range(10))\n",
    "print(c)"
   ]
  },
  {
   "cell_type": "markdown",
   "metadata": {},
   "source": [
    "### 4.2 Functions Custom\n",
    "We can also customize functions to automate sequence of steps that need to be repeated multiple times. An example for the calculation of BMI (Body Mass Index):"
   ]
  },
  {
   "cell_type": "code",
   "execution_count": null,
   "metadata": {},
   "outputs": [],
   "source": [
    "def calcular_imc(peso, altura):\n",
    "    return peso/altura**2"
   ]
  },
  {
   "cell_type": "code",
   "execution_count": null,
   "metadata": {},
   "outputs": [],
   "source": [
    "calcular_imc(60, 1.74)"
   ]
  },
  {
   "cell_type": "code",
   "execution_count": null,
   "metadata": {},
   "outputs": [],
   "source": [
    "calcular_imc(peso=61, altura=1.64)"
   ]
  },
  {
   "cell_type": "markdown",
   "metadata": {},
   "source": [
    "#### Activity\n",
    "Create a `area_circulo` function that calculates the area of ​​a circle:"
   ]
  },
  {
   "cell_type": "code",
   "execution_count": null,
   "metadata": {},
   "outputs": [],
   "source": [
    "PI = 3.1415 # por convenção, constantes são declaradas com letras maiúsculas para diferenciar de variáveis\n",
    "\n",
    "# Termine o código\n",
    "def area_circulo(raio):\n",
    "    #TODO: Resolver\n",
    "    return 0 "
   ]
  },
  {
   "cell_type": "code",
   "execution_count": null,
   "metadata": {},
   "outputs": [],
   "source": [
    "area_circulo(5)"
   ]
  },
  {
   "cell_type": "markdown",
   "metadata": {},
   "source": [
    "If it is too easy, make it also calculate the circumference of a circle. The same will have two inputs, and `` raio` tipo_calculo` type of calculation that is a character string for indicating whether the computation is 'circle' or 'Area'. As a reminder to the area of ​​a circle is pi * R ** `2` (2'** 'means' the square') and the circumference is 2 * pi *` r`."
   ]
  },
  {
   "cell_type": "code",
   "execution_count": null,
   "metadata": {},
   "outputs": [],
   "source": [
    "# DICA: Confira o exemplo de sintaxe para o uso de condicionais no topo do documento.\n",
    "# DICA 2: Pesquise sobre o uso do sinal de equalidade '=='. Qual a diferença entre = e == em Python?\n",
    "\n",
    "PI = 3.1415 # por convenção, constantes são declaradas com letras maiúsculas para diferenciar de variáveis\n",
    "\n",
    "# Termine o código\n",
    "def geometria_circulo(raio, tipo_calculo):\n",
    "    return 0"
   ]
  },
  {
   "cell_type": "code",
   "execution_count": null,
   "metadata": {},
   "outputs": [],
   "source": [
    "geometria_circulo(raio=4, tipo_calculo='circunferencia')"
   ]
  },
  {
   "cell_type": "code",
   "execution_count": null,
   "metadata": {},
   "outputs": [],
   "source": [
    "geometria_circulo(raio=4, tipo_calculo='area')"
   ]
  },
  {
   "cell_type": "markdown",
   "metadata": {},
   "source": [
    "### 4.3 Custom Classes\n",
    "Unlike built-in functions, Python has no native class. They are easily recognizable because it is one of the few types of syntax that makes the use of capital letters (all classes have capitalized). We can say that class is a block that lets you load into it a number of functions and variables. An example"
   ]
  },
  {
   "cell_type": "code",
   "execution_count": null,
   "metadata": {},
   "outputs": [],
   "source": [
    "class Cachorro:\n",
    "    def __init__(self, cor='preto'):\n",
    "        self.cor=cor\n",
    "\n",
    "    def latir(self):\n",
    "        print('AU AU')"
   ]
  },
  {
   "cell_type": "code",
   "execution_count": null,
   "metadata": {},
   "outputs": [],
   "source": [
    "pluto = Cachorro(cor='amarelo')\n",
    "snoopy = Cachorro(cor='branco')"
   ]
  },
  {
   "cell_type": "code",
   "execution_count": null,
   "metadata": {},
   "outputs": [],
   "source": [
    "pluto.cor"
   ]
  },
  {
   "cell_type": "code",
   "execution_count": null,
   "metadata": {},
   "outputs": [],
   "source": [
    "pluto.latir()"
   ]
  },
  {
   "cell_type": "code",
   "execution_count": null,
   "metadata": {},
   "outputs": [],
   "source": [
    "snoopy.latir()"
   ]
  },
  {
   "cell_type": "markdown",
   "metadata": {},
   "source": [
    "Although you rarely need to schedule classes, it is very common that you use imported classes from other codes even without knowing it. For example, we use [robô do WhatsApp](https://github.com/WittmannF/whatsapp_api/blob/master/whatsapp_api.py) above is an example of class. Another example is [colorizador de imagens](https://github.com/awarischool/br-data-science/blob/master/image-colorizer/deoldify_wrapper.py). Next, we'll see some examples of classes and functions that can be imported from ready codes.\n",
    "## 5. Imports"
   ]
  },
  {
   "cell_type": "markdown",
   "metadata": {},
   "source": [
    "### 5.1 ALL: Inspecting Activity Codes\n",
    "Inspect these two codes we used in previous activities:\n",
    "- Bot do WhatsApp: https://github.com/WittmannF/whatsapp_api\n",
    "- Colorizador: https://github.com/awarischool/br-data-science/tree/master/image-colorizer\n",
    "What are the similarities present between them? How do we make use of the code present in them in our applications?"
   ]
  },
  {
   "cell_type": "markdown",
   "metadata": {},
   "source": [
    "### 5.2 Modules"
   ]
  },
  {
   "cell_type": "code",
   "execution_count": null,
   "metadata": {},
   "outputs": [],
   "source": [
    "from exemplo_modulo import Cachorro"
   ]
  },
  {
   "cell_type": "code",
   "execution_count": null,
   "metadata": {},
   "outputs": [],
   "source": [
    "scooby = Cachorro('marrom')\n",
    "scooby.latir()"
   ]
  },
  {
   "cell_type": "code",
   "execution_count": null,
   "metadata": {},
   "outputs": [],
   "source": [
    "from exemplo_modulo import calcular_imc"
   ]
  },
  {
   "cell_type": "code",
   "execution_count": null,
   "metadata": {},
   "outputs": [],
   "source": [
    "calcular_imc(70, 1.81)"
   ]
  },
  {
   "cell_type": "markdown",
   "metadata": {},
   "source": [
    "### 5.3 customized packages"
   ]
  },
  {
   "cell_type": "code",
   "execution_count": null,
   "metadata": {},
   "outputs": [],
   "source": [
    "from exemplo_pacote.modulo_1 import Person\n",
    "from exemplo_pacote.modulo_2 import ComplexNumber"
   ]
  },
  {
   "cell_type": "code",
   "execution_count": null,
   "metadata": {},
   "outputs": [],
   "source": [
    "bill = Person('Bill Gates', 64)"
   ]
  },
  {
   "cell_type": "code",
   "execution_count": null,
   "metadata": {},
   "outputs": [],
   "source": [
    "bill.get_info()"
   ]
  },
  {
   "cell_type": "markdown",
   "metadata": {},
   "source": [
    "### 5.4 Pre-Existing Packages\n",
    "- Full list: https://docs.python.org/3/py-modindex.html\n",
    "Some examples:"
   ]
  },
  {
   "cell_type": "code",
   "execution_count": null,
   "metadata": {},
   "outputs": [],
   "source": [
    "import math"
   ]
  },
  {
   "cell_type": "code",
   "execution_count": null,
   "metadata": {},
   "outputs": [],
   "source": [
    "math.log(10)"
   ]
  },
  {
   "cell_type": "code",
   "execution_count": null,
   "metadata": {},
   "outputs": [],
   "source": [
    "math.factorial(3)"
   ]
  },
  {
   "cell_type": "markdown",
   "metadata": {},
   "source": [
    "### 5.5 Package Installation\n",
    "To install packages, the only thing you need is to know the name of it. There is a package repository called [PyPi](https://pypi.org/search/) in which will automatically search for the package name that you want to install, download it and install it for you. For installation simply packages you open your CMD or terminal and type:\n",
    "```\n",
    "pip install nome_pacote\n",
    "```\n",
    "You can still do the installation directly here by jupyter. To send system commands, you simply put the exclamation point at the beginning. In the following example we will be installing the package called [VisualML](https://github.com/WittmannF/visual-ml). First we will check if the package is installed:\n"
   ]
  },
  {
   "cell_type": "code",
   "execution_count": null,
   "metadata": {},
   "outputs": [],
   "source": [
    "import visualml"
   ]
  },
  {
   "cell_type": "markdown",
   "metadata": {},
   "source": [
    "If the package is not installed, an error message will appear in the previous line indicating that it is not installed. So let us install it:"
   ]
  },
  {
   "cell_type": "code",
   "execution_count": null,
   "metadata": {},
   "outputs": [],
   "source": [
    "!pip install visualml"
   ]
  },
  {
   "cell_type": "markdown",
   "metadata": {},
   "source": [
    "And we will again try to import the package:"
   ]
  },
  {
   "cell_type": "code",
   "execution_count": null,
   "metadata": {},
   "outputs": [],
   "source": [
    "import visualml"
   ]
  },
  {
   "cell_type": "markdown",
   "metadata": {},
   "source": [
    "Now yes! This is a package created for inspection ML algorithms decision borders. The following is an example of the same use (Note: there is no need to understand the following lines of code, just understand that we are using the VisualML in the last line):"
   ]
  },
  {
   "cell_type": "code",
   "execution_count": null,
   "metadata": {},
   "outputs": [],
   "source": [
    "import pandas as pd\n",
    "from sklearn.datasets import make_classification\n",
    "from sklearn.ensemble import RandomForestClassifier as RF\n",
    "\n",
    "# Create a toy classification dataset\n",
    "feature_names = ['A','B','C','D']\n",
    "X, y = make_classification(n_features=4, random_state=42)\n",
    "\n",
    "# The visualization is only supported if X is a pandas df\n",
    "X = pd.DataFrame(X, columns=feature_names)\n",
    "\n",
    "# Train a classifier\n",
    "clf = RF(random_state=42).fit(X,y) \n",
    "\n",
    "# Plot decision boundary grid\n",
    "visualml.decision_boundary_grid(clf, X, y)"
   ]
  },
  {
   "cell_type": "markdown",
   "metadata": {},
   "source": [
    "## 6. Package Examples in Practice\n",
    "Many packages come already installed automatically with Anaconda. The following are some examples."
   ]
  },
  {
   "cell_type": "markdown",
   "metadata": {},
   "source": [
    "### 6.1 Facial Recognition"
   ]
  },
  {
   "cell_type": "code",
   "execution_count": null,
   "metadata": {},
   "outputs": [],
   "source": [
    "# OBS: Precisa instalar opencv antes! Tente \n",
    "#!conda install opencv\n",
    "# Instruções mais detalhadas: https://medium.com/data-science-br/reconhecimento-facial-em-python-com-a-biblioteca-opencv-be500c3ebcb3"
   ]
  },
  {
   "cell_type": "code",
   "execution_count": null,
   "metadata": {},
   "outputs": [],
   "source": [
    "import cv2"
   ]
  },
  {
   "cell_type": "code",
   "execution_count": null,
   "metadata": {},
   "outputs": [],
   "source": [
    "# Caminho para o detector de faces pré-treinados\n",
    "# Fonte https://github.com/opencv/opencv/tree/master/data/haarcascades\n",
    "xml_path = 'haarcascade_frontalface_alt2.xml'\n",
    "\n",
    "# Inicializar Classificador\n",
    "clf = cv2.CascadeClassifier(xml_path)\n",
    "\n",
    "# Inicializar webcam\n",
    "cap = cv2.VideoCapture(0)\n",
    "\n",
    "# Loop para leitura do conteúdo\n",
    "while(not cv2.waitKey(20) & 0xFF == ord('q')):\n",
    "        # Capturar proximo frame\n",
    "        ret, frame = cap.read()\n",
    "\n",
    "        # TODO: Converter para tons de cinza\n",
    "        gray = cv2.cvtColor(frame, cv2.COLOR_BGR2GRAY)\n",
    "\n",
    "        # TODO: Classificar\n",
    "        faces = clf.detectMultiScale(gray)\n",
    "\n",
    "        # TODO: Desenhar retangulo\n",
    "        for x, y, w, h in faces:\n",
    "            cv2.rectangle(frame, (x, y), (x+w, y+h), (255, 0, 0))\n",
    "\n",
    "        # Visualizar\n",
    "        cv2.imshow('frame',frame)\n",
    "\n",
    "# Desligar a webcam\n",
    "cap.release()\n",
    "\n",
    "#Fechar janela do vídeo\n",
    "cv2.destroyAllWindows()\n",
    "cv2.waitKey(1)"
   ]
  },
  {
   "cell_type": "markdown",
   "metadata": {},
   "source": [
    "### 6.2 Data manipulation with Pandas"
   ]
  },
  {
   "cell_type": "code",
   "execution_count": null,
   "metadata": {},
   "outputs": [],
   "source": [
    "import pandas as pd # a sintaxe \"as pd\" é opcional e serve para abreviarmos o nome do módulo"
   ]
  },
  {
   "cell_type": "code",
   "execution_count": null,
   "metadata": {},
   "outputs": [],
   "source": [
    "# Função para ler arquivos do excel:\n",
    "df = pd.read_excel(\"exemplo_excel.xlsx\")"
   ]
  },
  {
   "cell_type": "code",
   "execution_count": null,
   "metadata": {},
   "outputs": [],
   "source": [
    "# Temos aqui que df é uma classe chamada \"DataFrame\", vamos testar alguns métodos dela\n",
    "type(df)"
   ]
  },
  {
   "cell_type": "code",
   "execution_count": null,
   "metadata": {},
   "outputs": [],
   "source": [
    "# Ver Cabeçalho \n",
    "df.head()"
   ]
  },
  {
   "cell_type": "code",
   "execution_count": null,
   "metadata": {},
   "outputs": [],
   "source": [
    "# Pegar algumas estatísticas\n",
    "df.describe()"
   ]
  },
  {
   "cell_type": "code",
   "execution_count": null,
   "metadata": {},
   "outputs": [],
   "source": [
    "# Pegar coluna\n",
    "df.Nome"
   ]
  },
  {
   "cell_type": "markdown",
   "metadata": {},
   "source": [
    "### 6.3 Machine Learning"
   ]
  },
  {
   "cell_type": "code",
   "execution_count": null,
   "metadata": {},
   "outputs": [],
   "source": [
    "from sklearn.datasets import load_breast_cancer\n",
    "from sklearn.ensemble import RandomForestClassifier as RF"
   ]
  },
  {
   "cell_type": "code",
   "execution_count": null,
   "metadata": {},
   "outputs": [],
   "source": [
    "# Ler base de dados de cancer de mama\n",
    "data = load_breast_cancer()\n",
    "X = data.data\n",
    "y = data.target\n",
    "\n",
    "# Treinar classificador\n",
    "clf = RF(random_state=42)\n",
    "clf.fit(X[:len(y)//2],y[:len(y)//2]) \n",
    "\n",
    "# Pegar acurácia do classificador para o conjunto de testes\n",
    "acuracia = clf.score(X[len(y)//2:], y[len(y)//2:])\n",
    "print(f'Acurácia no conjunto de teste {acuracia*100:.2f}%')"
   ]
  },
  {
   "cell_type": "markdown",
   "metadata": {},
   "source": [
    "### 6.4 Data Visualization"
   ]
  },
  {
   "cell_type": "code",
   "execution_count": null,
   "metadata": {},
   "outputs": [],
   "source": [
    "import seaborn as sns"
   ]
  },
  {
   "cell_type": "code",
   "execution_count": null,
   "metadata": {},
   "outputs": [],
   "source": [
    "df = pd.DataFrame(X, columns = data.feature_names)\n",
    "df['target'] = y\n",
    "columns = ['mean radius', 'mean texture', 'mean perimeter', 'mean area', 'target']\n",
    "sns.pairplot(df[columns], hue='target' )"
   ]
  },
  {
   "cell_type": "code",
   "execution_count": null,
   "metadata": {},
   "outputs": [],
   "source": [
    "# Visualizar fronteiras de decisão\n",
    "vml.decision_boundary_grid(clf, df.drop('target', axis=1), y, feat_list=columns[:-1], figsize=(12,12))"
   ]
  },
  {
   "cell_type": "markdown",
   "metadata": {},
   "source": [
    "### 6.5 Web Scraping"
   ]
  },
  {
   "cell_type": "code",
   "execution_count": null,
   "metadata": {},
   "outputs": [],
   "source": [
    "import requests"
   ]
  },
  {
   "cell_type": "code",
   "execution_count": null,
   "metadata": {},
   "outputs": [],
   "source": [
    "url = \"https://imoveis.mercadolivre.com.br/casas/aluguel/sao-paulo/sao-paulo-zona-sul/\"\n",
    "c = requests.get(url).content\n",
    "print(f'Coletando codigo fonte de {url}')\n",
    "print(c[-100:].decode())"
   ]
  },
  {
   "cell_type": "code",
   "execution_count": null,
   "metadata": {},
   "outputs": [],
   "source": [
    "from bs4 import BeautifulSoup\n",
    "soup = BeautifulSoup(c)\n",
    "precos = soup.find_all('span', {'class': 'price__fraction'})\n",
    "precos[-5:]"
   ]
  },
  {
   "cell_type": "markdown",
   "metadata": {},
   "source": [
    "### ML Web Deploy\n",
    "- https://github.com/WittmannF/calculadora-imoveis-dev\n",
    "- https://calculadora-imoveis-dev.herokuapp.com/"
   ]
  },
  {
   "cell_type": "code",
   "execution_count": null,
   "metadata": {},
   "outputs": [],
   "source": []
  },
  {
   "cell_type": "code",
   "execution_count": null,
   "metadata": {},
   "outputs": [],
   "source": []
  },
  {
   "cell_type": "code",
   "execution_count": null,
   "metadata": {},
   "outputs": [],
   "source": []
  }
 ],
 "metadata": {
  "kernelspec": {
   "display_name": "Python 3",
   "language": "python",
   "name": "python3"
  },
  "language_info": {
   "codemirror_mode": {
    "name": "ipython",
    "version": 3
   },
   "file_extension": ".py",
   "mimetype": "text/x-python",
   "name": "python",
   "nbconvert_exporter": "python",
   "pygments_lexer": "ipython3",
   "version": "3.7.7"
  }
 },
 "nbformat": 4,
 "nbformat_minor": 4
}
